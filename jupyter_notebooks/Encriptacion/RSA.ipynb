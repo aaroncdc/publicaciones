{
 "cells": [
  {
   "cell_type": "code",
   "execution_count": 1,
   "id": "ebbc5f9f-fc18-4b85-be43-33c52986b139",
   "metadata": {
    "tags": []
   },
   "outputs": [
    {
     "name": "stdout",
     "output_type": "stream",
     "text": [
      "13\n"
     ]
    }
   ],
   "source": [
    "# Una lista con algunos números primos pequeños.\n",
    "\n",
    "primos = [ 2, 3, 5, 7, 11, 13, 17, 19, 23, 29, 31, 37, 41, 43, 47, 53, 59, 61, 67, 71,\n",
    "73, 79, 83, 89, 97, 101, 103, 107, 109, 113, 127, 131, 137, 139, 149, 151, 157, 163, 167, 173,\n",
    "179, 181, 191, 193, 197, 199, 211, 223, 227, 229, 233, 239, 241, 251, 257, 263, 269, 271, 277, 281,\n",
    "283, 293, 307, 311, 313, 317, 331, 337, 347, 349, 353, 359, 367, 373, 379, 383, 389, 397, 401, 409,\n",
    "419, 421, 431, 433, 439, 443, 449, 457, 461, 463, 467, 479, 487, 491, 499, 503, 509, 521, 523, 541,\n",
    "547, 557, 563, 569, 571, 577, 587, 593, 599, 601, 607, 613, 617, 619, 631, 641, 643, 647, 653, 659 ]\n",
    "\n",
    "def primo(indice = 0)-> int:\n",
    "    if indice < 0: return None\n",
    "    if indice > len(primos): return None\n",
    "    return primos[indice]\n",
    "\n",
    "print(primo(5)) #13"
   ]
  },
  {
   "cell_type": "code",
   "execution_count": 2,
   "id": "c083cbfe-a094-4173-811d-b4158b0d29a4",
   "metadata": {
    "tags": []
   },
   "outputs": [
    {
     "data": {
      "text/plain": [
       "3"
      ]
     },
     "metadata": {},
     "output_type": "display_data"
    },
    {
     "data": {
      "text/plain": [
       "1"
      ]
     },
     "metadata": {},
     "output_type": "display_data"
    }
   ],
   "source": [
    "# Algoritmo extendido de Euclides para el cálculo del MCD de dos números naturales a y b\n",
    "def MCD(a,b):\n",
    "    while b != 0:\n",
    "        a,b = b, a % b\n",
    "    return a\n",
    "\n",
    "display(MCD(3,6)) # MCD(3,6) = 3\n",
    "display(MCD(5,17)) # MCD(5,17) = 1 (co-primos o primos relativos)"
   ]
  },
  {
   "cell_type": "code",
   "execution_count": 3,
   "id": "81fc39e1-882b-42b2-8443-5ac70424b7cb",
   "metadata": {
    "tags": []
   },
   "outputs": [
    {
     "name": "stdout",
     "output_type": "stream",
     "text": [
      "True\n",
      "False\n"
     ]
    }
   ],
   "source": [
    "# Comprobar si dos números son co-primos:\n",
    "def son_coprimos(a,b):\n",
    "    return MCD(a,b) == 1\n",
    "\n",
    "print(son_coprimos(14,15)) # True\n",
    "print(son_coprimos(14,28)) # False"
   ]
  },
  {
   "cell_type": "code",
   "execution_count": 4,
   "id": "e9a79f04-c863-4071-a117-3a5ecaca0de4",
   "metadata": {
    "tags": []
   },
   "outputs": [
    {
     "name": "stdout",
     "output_type": "stream",
     "text": [
      "True\n",
      "False\n"
     ]
    }
   ],
   "source": [
    "# Optimización usando la función gcd incorporada en math\n",
    "from math import gcd\n",
    "\n",
    "def son_coprimos_opt(a,b):\n",
    "    return gcd(a,b) == 1\n",
    "\n",
    "print(son_coprimos_opt(14,15)) # True\n",
    "print(son_coprimos_opt(14,28)) # False"
   ]
  },
  {
   "cell_type": "code",
   "execution_count": 5,
   "id": "00a4aa99-9096-4bee-8628-3454c745a2b9",
   "metadata": {
    "tags": []
   },
   "outputs": [
    {
     "name": "stdout",
     "output_type": "stream",
     "text": [
      "[1, 2, 3, 4, 6, 7, 8, 9, 12, 13, 14, 16, 17, 18, 19, 21, 23, 24, 26, 27, 28, 29, 31, 32, 34, 36, 37, 38, 39, 41, 42, 43, 46, 47, 48, 49, 51, 52, 53, 54, 56, 57, 58, 59, 61, 62, 63, 64, 67, 68, 69, 71, 72, 73, 74, 76, 78, 79, 81, 82, 83, 84, 86, 87, 89, 91, 92, 93, 94, 96, 97, 98]\n"
     ]
    }
   ],
   "source": [
    "# Cálculo de co-primos de un número\n",
    "def coprimos(a, maximo):\n",
    "    coprimos = []\n",
    "    for i in range(1, maximo + 1):\n",
    "        if son_coprimos_opt(a,i):\n",
    "            coprimos.append(i)\n",
    "    return coprimos\n",
    "\n",
    "print(coprimos(55,100))"
   ]
  },
  {
   "cell_type": "markdown",
   "id": "8ddb6373-161a-48aa-9b03-ad78ffb36c3c",
   "metadata": {},
   "source": [
    "La función $\\phi$ de Euler (también llamada función indicatriz de Euler o función totiente) es una función importante en teoría de números. Si n es un número entero positivo, entonces $\\phi$(n) se define como la cantidad de enteros positivos menores a n y coprimos con n, es decir, formalmente se puede definir como:\n",
    "\n",
    "$\\displaystyle{\\phi(n) = \\ | \\ \\{ m \\in \\mathbb{N} \\ | \\ m \\leq n \\wedge mcd(m,n) = 1 \\}|}$\n",
    "\n",
    "Donde $|\\cdot |$ es la cardinalidad del conjunto de valores (o el número de elementos en el conjunto)."
   ]
  },
  {
   "cell_type": "code",
   "execution_count": 6,
   "id": "50247d6d-a465-49dc-af47-e735cb4d0470",
   "metadata": {
    "tags": []
   },
   "outputs": [
    {
     "name": "stdout",
     "output_type": "stream",
     "text": [
      "40\n"
     ]
    }
   ],
   "source": [
    "def indicatriz(a):\n",
    "    if a < 1: return None\n",
    "    return len(coprimos(a,a-1))\n",
    "\n",
    "print(indicatriz(55)) # 40"
   ]
  },
  {
   "cell_type": "markdown",
   "id": "dd24e66a-99c1-48b4-8faf-56a2e2978905",
   "metadata": {},
   "source": [
    "Con $\\varphi$ es la función de Euler, se puede calcular la indicatriz como $\\varphi(n) = (p-1) \\cdot (q - 1)$ para dos primos p y q aprovechando las dos propiedades de la función de Euler siguientes:\n",
    "\n",
    "1. $\\varphi (p) = p - 1$ si p p es primo.\n",
    "2. Si m y n son primos entre sí, entonces $\\varphi(mn) = \\varphi(m) \\varphi(n)$"
   ]
  },
  {
   "cell_type": "code",
   "execution_count": 7,
   "id": "3c4d96b3-a3e4-4e59-ba43-78993cb2b840",
   "metadata": {
    "tags": []
   },
   "outputs": [
    {
     "name": "stdout",
     "output_type": "stream",
     "text": [
      "40\n"
     ]
    }
   ],
   "source": [
    "def indicatriz_coprimos(p1,p2):\n",
    "    if p1 < 1 or p2 < 1: return None\n",
    "    return (p1 - 1) * (p2 - 1)\n",
    "\n",
    "print(indicatriz_coprimos(5,11)) # 40"
   ]
  },
  {
   "cell_type": "markdown",
   "id": "cd4c920f-1ebf-4396-93d1-4445a1c7e0bb",
   "metadata": {},
   "source": [
    "Para buscar el producto modular inverso de $a \\ mod \\ \\varphi(n)$, buscamos un número $k$ tal que $ak \\equiv 1 \\ (mod \\ \\varphi(n))$. Esto se puede hacer con el algoritmo extendido de Euclides, pero también se puede usar la regla $ak \\equiv [(a \\ mod \\ \\varphi(n))(k \\ mod \\ \\varphi(n))] \\ (mod \\ \\varphi(n))$ y buscar un $k$ tal que $[(a \\ mod \\ \\varphi(n))(k \\ mod \\ \\varphi(n))] \\ mod \\ \\varphi(n) = 1$."
   ]
  },
  {
   "cell_type": "code",
   "execution_count": 8,
   "id": "ed9cabcc-68a6-4a55-915a-39505e87a9b9",
   "metadata": {
    "tags": []
   },
   "outputs": [
    {
     "name": "stdout",
     "output_type": "stream",
     "text": [
      "27\n"
     ]
    }
   ],
   "source": [
    "def inversa_modular(a,phin):\n",
    "    # Buscamos un número k tal que ak sea congruente con 1 (mod phi(n)) donde b = phi(n), b > 1 y phi(n) es la función de la indicatriz de Euler.\n",
    "    if phin <= 1: return None\n",
    "    for k in range(0,phin):\n",
    "        # Aquí se usa el hecho de que ak es congruente con [(a mod phi(n)) (k mod phi(n))] (mod phi(n)). Como ak tiene que ser congruente con 1 (mod phi(n)),\n",
    "        # buscamos un k tal que  [(a mod phi(n)) (k mod phi(n))] mod phi(n) = 1.\n",
    "        if (a % phin) * (k % phin) % phin == 1:\n",
    "            return k\n",
    "    return None\n",
    "\n",
    "print(inversa_modular(3, 40)) #27"
   ]
  },
  {
   "cell_type": "code",
   "execution_count": 9,
   "id": "15bdcca7-420a-40a7-86cd-3aed873a9bde",
   "metadata": {
    "tags": []
   },
   "outputs": [
    {
     "name": "stdout",
     "output_type": "stream",
     "text": [
      "[(4571, 5), (4571, 1565)]\n"
     ]
    }
   ],
   "source": [
    "from random import randint\n",
    "def generar_claves():\n",
    "    NUMEROS_PRIMOS = len(primos)\n",
    "    # Se obtienen dos números primos p y q distintos\n",
    "    p = primo(randint(0,NUMEROS_PRIMOS - 1))\n",
    "    q = p\n",
    "    while q == p:\n",
    "        q = primo(randint(0,NUMEROS_PRIMOS - 1))\n",
    "    # Se calcula n = p * q. n es el módulo de la clave pública.\n",
    "    n = p*q\n",
    "    # Se calcula la indicatriz de n\n",
    "    phin = indicatriz_coprimos(p,q)\n",
    "    # Se escoge un entero positivo e menor que phi(n), e es coprimo de phi(n). e es el exponente de la clave pública.\n",
    "    e = 2\n",
    "    while son_coprimos_opt(phin, e) == False:\n",
    "        e += 1\n",
    "    # Se calcula d como el multiplicador modular inverso de e mod phi(n). d es el exponente de la clave privada.\n",
    "    d = inversa_modular(e, phin)\n",
    "    # Clave pública: (e,n). Clave privada: (d, n).\n",
    "    return [(n,e), (n,d)]\n",
    "\n",
    "print(generar_claves())"
   ]
  },
  {
   "cell_type": "markdown",
   "id": "73c9b5fa-a274-420f-b33e-1a2b58dc52ad",
   "metadata": {},
   "source": [
    "## Cifrado\n",
    "\n",
    "El cifrado se realiza mediante la siguiente fórmula:\n",
    "    \n",
    "$C = M^e \\ mod \\ n$\n",
    "\n",
    "Donde $C$ es el mensaje codificado, $M$ es el mensaje original, $e$ el exponente de la clave pública, y $n$ el módulo. Para descifrarlo:\n",
    "\n",
    "$M = C^d \\ mod \\ n$\n",
    "\n",
    "Donde $M$ es el mensaje original, $C$ el mensaje codificado, $d$ es el exponente de la clave privada, y $n$ el módulo."
   ]
  },
  {
   "cell_type": "code",
   "execution_count": 12,
   "id": "ba3f22fd-6582-4bbd-9cde-5f2e429d5340",
   "metadata": {
    "tags": []
   },
   "outputs": [
    {
     "name": "stdout",
     "output_type": "stream",
     "text": [
      "[740, 147, 252, 324, 274, 206, 580, 351, 191, 247, 252, 690]\n"
     ]
    }
   ],
   "source": [
    "def cifrado(mensaje: str, clave_publica: tuple)->list:\n",
    "    return [ord(i)**clave_publica[1] % clave_publica[0] for i in mensaje]\n",
    "\n",
    "claves = generar_claves()\n",
    "mensaje = \"¡Hola mundo!\"\n",
    "mensaje_cifrado = cifrado(mensaje, claves[0])\n",
    "print(mensaje_cifrado)"
   ]
  },
  {
   "cell_type": "code",
   "execution_count": 13,
   "id": "92bdac16-12ad-4a65-9f11-64d313884d1c",
   "metadata": {
    "tags": []
   },
   "outputs": [
    {
     "name": "stdout",
     "output_type": "stream",
     "text": [
      "¡Hola mundo!\n"
     ]
    }
   ],
   "source": [
    "def descifrar(mensaje: list, clave_privada: tuple)->str:\n",
    "    return ''.join([chr(i**clave_privada[1] % clave_privada[0]) for i in mensaje])\n",
    "\n",
    "mensaje_descifrado = descifrar(mensaje_cifrado, claves[1])\n",
    "print(mensaje_descifrado)"
   ]
  },
  {
   "cell_type": "code",
   "execution_count": null,
   "id": "1806b0c1-c454-4652-ba20-6b5c9ef2de1a",
   "metadata": {},
   "outputs": [],
   "source": []
  }
 ],
 "metadata": {
  "kernelspec": {
   "display_name": "Python 3 (ipykernel)",
   "language": "python",
   "name": "python3"
  },
  "language_info": {
   "codemirror_mode": {
    "name": "ipython",
    "version": 3
   },
   "file_extension": ".py",
   "mimetype": "text/x-python",
   "name": "python",
   "nbconvert_exporter": "python",
   "pygments_lexer": "ipython3",
   "version": "3.11.1"
  }
 },
 "nbformat": 4,
 "nbformat_minor": 5
}
