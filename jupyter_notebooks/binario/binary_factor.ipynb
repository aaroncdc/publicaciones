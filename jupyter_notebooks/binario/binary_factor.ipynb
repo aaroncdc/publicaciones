{
 "cells": [
  {
   "cell_type": "markdown",
   "id": "37e52ae6-61e5-44d1-8861-5dc052602efa",
   "metadata": {},
   "source": [
    "# Cualquier entero puede representarse como una combinacion de potencias de 2\n",
    "## Demostracion:\n",
    "\n",
    "### 1. Para un entero $n$, $n$ es par si y solo si $n = 2k$ para algun entero $k$\n",
    "\n",
    "Por el teorema del cociente-residuo, $n = pk + r$ para algunos enteros $p,k,r$ con $0 \\leq r < n$. Dado que $n$ es par, $2$ divide a $n$. Lo que implica que $n=2k$ y $r = 0$. Esto es verdadero para todo entero $n$ y $k$ ya que, por induccion, el siguiente par es:\n",
    "\n",
    "$\\displaystyle{n + 1 = 2(k+1)}$\n",
    "\n",
    "Que tambien es par.\n",
    "\n",
    "### 2. Para un entero $n$, $n$ es impar si y solo si $n = 2k + 1$ para algun entero $k$\n",
    "\n",
    "Si n es impar, entonces $2$ no divide a $n$, y por tanto $n = 2k + r$ con $0 \\leq r < n$. No obstante, dado que estamos dividiendo por 2, los unicos restos posibles son $0$ o $1$. Y como $2$ no divide a $n$, el resto $r$ no puede ser igual a $0$. Por tanto:\n",
    "\n",
    "$\\displaystyle{n = 2k + 1}$\n",
    "\n",
    "Esto es cierto para todo entero $n$. Por induccion, el siguiente entero impar es:\n",
    "\n",
    "$\\displaystyle{n + 1 = 2(k+1) + 1}$\n",
    "\n",
    "que es impar.\n",
    "\n",
    "### 3. Si n es un entero, n solo puede ser par o impar\n",
    "\n",
    "Un entero, o es divisible entre $2$, o no es divisible entre $2$. Por tanto, cualquier numero se puede representar como $n = 2k + r$ con $r \\in [0,1]$.\n",
    "\n",
    "### 4. La potencia $2^0 = 1$\n",
    "\n",
    "Supongamos que $a$ es un numero real cualquiera. El numero a se puede representar tambien como $a = 1 \\cdot a$, ya que cualquier numero contiene un multiplo 1 implicito. Una potencia de $a$, tal que $a^n$ para algun entero $n \\geq 0$, es un producto de a donde los factores forman un conjunto. Por ejemplo:\n",
    "\n",
    "$a^3 = a \\cdot a \\cdot a$\n",
    "\n",
    "En este caso, los factores de $a^3$ forman un multiconjunto con tres elementos $a$. Cuando el exponente es 0, este multiconjunto esta vacio ($\\emptyset$). Es decir, no contiene ningun factor $a$. Pero recordemos que $a = 1 \\cdot a$. Es decir, contiene un factor 1 implicito. Y por tanto, el único factor es 1, de modo que $a^0 = 1$. Y cuando $a = 2$, $2^0 = 1$ (que es lo que se queria demostrar).\n",
    "\n",
    "### 5. La suma de n numeros pares es par\n",
    "\n",
    "Sea $a_i$ un entero par tal que $a_i = 2k_i$ para algun entero $k_i$, la suma es:\n",
    "\n",
    "$\\displaystyle{\\sum^{n}_{i=1}a_i = \\sum^{n}_{i=1} 2k_i = 2 \\left( \\sum^{n}_{i=1}k_i \\right) }$\n",
    "\n",
    "Que por (1) es par.\n",
    "\n",
    "### 6. La suma de un entero par y un entero impar es impar\n",
    "\n",
    "Sean $n = 2k$ y $m = 2s + 1$, su suma es\n",
    "\n",
    "$\\displaystyle{n + m = 2k + 2s + 1 = 2(k+s) + 1}$\n",
    "\n",
    "Que por (2) es impar.\n",
    "\n",
    "### 7. El producto de dos enteros pares es par\n",
    "\n",
    "Sean $n = 2k$ y $m = 2s$, su producto es\n",
    "\n",
    "$\\displaystyle{nm = 2k \\cdot 2s = 4ks = 2(2ks)}$\n",
    "\n",
    "Que por (1) es par.\n",
    "\n",
    "### 8. Cualquier combinacion de potencias de 2 es par, siempre que no exista ningun termino $2^0$\n",
    "\n",
    "Sea $\\displaystyle{n = \\sum^{m-1}_{i=0}2^{m-i}}$ para algun entero $m > 1$, por (5) podemos concluir que $n$ es par si y solo si $2^{m-i}$ es par. Dado que $2^{m-i}$ es una potencia de 2 (que es par), por (5) podemos concluir que $2^{m-i}$ es par. Y asi, $n$ es par.\n",
    "\n",
    "Si añadimos $2^0$ a la suma, por (4) $2^0 = 1$, y asi:\n",
    "\n",
    "$\\displaystyle{n = \\left( \\sum^{m-1}_{i=0}2^{m-i} \\right) + 1}$\n",
    "\n",
    "que es impar. Sea $N$ el conjunto de $m$ elementos $2^i$ tal que su suma sea $n$, o mas formalmente:\n",
    "\n",
    "$\\displaystyle{ N = \\{ 2^i (i \\in \\mathbb{Z} \\geq 0) \\mid \\sum_{i=0}^{m} 2^i = n \\} }$\n",
    "\n",
    "si $2^0 \\notin N$, entonces por (5) concluimos que la suma de todos los elementos en $N$ es par. Y si $2^0 \\in N$, por (5) y por (6) concluimos que la suma de todos los elementos en $N$ es impar.\n",
    "\n",
    "### 9. Cualquier entero $n > 0$ se puede representar como una combinacion de potencias de dos\n",
    "\n",
    "Por (3), un entero solo puede ser par o impar. Por (8), podemos representar un entero $n > 0$ par como una combinacion de potencias de dos tal que el ultimo elemento de la suma sea mayor o igual a $2^1$, y podemos representar un entero $n$ impar como una combinacion de potencias de dos tal que el ultimo elemento de la suma sea igual a $2^0$. Por tanto, por (3), cualquier entero puede representarse como una combinacion de potencias de dos.\n",
    "\n",
    "Para $n = 0$, su representacion solo puede ser $0$.\n",
    "\n",
    "----\n",
    "\n",
    "# Representacion de un numero entero decimal positivo en binario\n",
    "\n",
    "Sea $n$ un numero entero mayor que $0$, y $\\displaystyle{ N = \\{ 2^i (i \\in \\mathbb{Z} \\geq 0) \\mid \\sum_{i=0}^{m} 2^i = n \\} }$. Y se define $b(i)$ como:\n",
    "\n",
    "$$\\displaystyle{\n",
    "b(i) = \\begin{cases}\n",
    "   1 \\ \\ si \\ i \\in N \\\\\n",
    "   0 \\ \\ si \\  i \\notin N\n",
    "\\end{cases}\n",
    "}$$\n",
    "\n",
    "Entonces la representacion binaria de $n$ se define como el multiconjunto $B = [ \\forall i \\in (card(N) \\geq i \\geq 0) \\wedge i \\in \\mathbb{Z} \\mid b(i)]$.\n",
    "\n",
    "El multiconjunto $B$ contiene todos los bits que representan a $n$. Por ejemplo, para el numero $30$, tenemos que $N = \\{2^4, 2^3, 2^2, 2^1\\}$. Y su representacion binaria es $B = [1,1,1,1,0]$, o expresado como un digito, $n = b11110$ (donde \"b\" se usa para denotar que el numero es una representacion binaria y no decimal). Naturalmente, $B$ se puede tambien definir como un conjunto normal, tal que:\n",
    "\n",
    "$B = \\{ \\forall i \\in (card(N) \\geq i \\geq 0) \\wedge i \\in \\mathbb{Z} \\mid (i, b(i))\\}$\n",
    "\n",
    "O mas compacto como una funcion, sea $S = [card(N), 0] \\in \\mathbb{Z}$ y $V = \\{\\forall i \\in V \\mid b(i)\\}$, se define $B$ como  $B: S \\rightarrow V$.\n",
    "\n",
    "----\n",
    "\n",
    "# Numero de bits requeridos para representar un numero entero $n$\n",
    "\n",
    "Buscamos un numero $i$ tal que $n \\leq 2^i$. Como $n$ es un entero pero $log_2 i$ es un numero real, buscamos un entero $m$ tal que $m \\leq log_2 i < m + 1$, y hacemos que $i = m$ de modo que $n \\leq 2^m$ y $m \\in \\mathbb{Z}$.\n",
    "\n",
    "Por ejemplo, supongamos que $n = 15$. Buscamos un entero $m$ tal que $15 \\leq 2^m$ y $m \\leq log_2 i < m + 1$. Supongamos que $i = 16$, entonces $log_2 16 = 4$ y $m \\leq 4 < m + 1$. Como 4 es un entero, $m = 4$. Y así, $15 \\leq 2^4 = 16$. Por tanto, el numero de bits requerido para representar a $15$ es $m = 4$. Esta formula se simplifica como\n",
    "\n",
    "$m = \\lfloor log_2 i \\rfloor$ para algun entero $i > 0$.\n",
    "\n",
    "----\n",
    "\n",
    "# Convertir un numero binario positivo a decimal\n",
    "\n",
    "Sea $B$ el multiconjunto de todos los bits (unos y ceros) que forman la representacion binaria del numero entero $n$, siendo $n > 0$. Entonces el valor decimal ($D$) de $n$ es:\n",
    "\n",
    "$\\displaystyle{D = \\sum_{i=0}^{card(B)-1} B_i \\times 2^i}$\n",
    "\n",
    "Ejemplo: Sea $n = b11110$, $B = [1,1,1,1,0]$ y $D = 0 \\times 2^0 + 1 \\times 2^1 + 1 \\times 2^2 + 1 \\times 2^3 + 1 \\times 2^4 = 2 + 4 + 8 + 16 = 30$\n",
    "\n",
    "----\n",
    "\n",
    "Los siguientes programas representan algoritmos en Python para calcular el numero de bits requerido para representar un entero, su combinacion de potencias de dos, asi como convertir su combinacion de potencias de dos en un entero decimal:"
   ]
  },
  {
   "cell_type": "code",
   "execution_count": 1,
   "id": "3593f7d6-068d-4b6d-a27e-72a9f49d2bed",
   "metadata": {
    "tags": []
   },
   "outputs": [],
   "source": [
    "from math import log"
   ]
  },
  {
   "cell_type": "code",
   "execution_count": 2,
   "id": "ddb31b0c-00af-4a56-96d7-ca716e814df3",
   "metadata": {
    "tags": []
   },
   "outputs": [
    {
     "name": "stdout",
     "output_type": "stream",
     "text": [
      "3.0\n"
     ]
    }
   ],
   "source": [
    "# Esto es un alias para log(x,2). Devuelve el logaritmo en base 2 de x.\n",
    "log2 = lambda x: log(x,2)\n",
    "\n",
    "print(log2(8)) # Esperado: 3.0"
   ]
  },
  {
   "cell_type": "code",
   "execution_count": 3,
   "id": "cd334310-2992-4e6e-a6fb-65aeadfce050",
   "metadata": {
    "tags": []
   },
   "outputs": [
    {
     "name": "stdout",
     "output_type": "stream",
     "text": [
      "3\n"
     ]
    }
   ],
   "source": [
    "# Devuelve el número de bits requerido para\n",
    "# representar el número entero x.\n",
    "def rbits(x: int)->int:\n",
    "    # Los valores negativos se representan\n",
    "    # mediante complemento a 2. No implementado.\n",
    "    if x < 0: return None\n",
    "\n",
    "    # rbits = piso(log2(x))\n",
    "    # Convertir un número decimal a entero (int) es\n",
    "    # igual a la función piso.\n",
    "    return int(log2(x))\n",
    "\n",
    "print(rbits(15)) # Valor esperado: 3"
   ]
  },
  {
   "cell_type": "code",
   "execution_count": 4,
   "id": "6c125c81-71f1-4bcf-94e8-61603209f25d",
   "metadata": {
    "tags": []
   },
   "outputs": [
    {
     "name": "stdout",
     "output_type": "stream",
     "text": [
      "[3, 2, 1, 0]\n",
      "[8]\n",
      "[16, 8, 4, 2]\n",
      "30\n"
     ]
    }
   ],
   "source": [
    "# Devuelve una composicion de potencias de dos, como una\n",
    "# lista de los exponentes.\n",
    "def bincomb(x: int)->list:\n",
    "    res = [] # Lista con los exponentes\n",
    "    rb = rbits(x) # rb es el número requerido de bits\n",
    "    c = 0 # Acumulador\n",
    "    d = 0 # Variable temporal para computar 2^(rb-i)\n",
    "    \n",
    "    # Si el numero es 0, no tiene potencias de 2.\n",
    "    # Se devuelve una lista vacía.\n",
    "    if x == 0: return []\n",
    "    # Si x == 2^(rb) entonces solo tiene rb.\n",
    "    if x == 2**rb: return [rb]\n",
    "    \n",
    "    # Iterar de 0 a rb (bits requeridos), rb incluido (El intervalo es [0, rb])\n",
    "    for i in range(0,rb+1):\n",
    "        # d = 2^(rb-i). Cuando i = 0, d = 2^rb. Cuando i = rb, d = 2^0 = 1.\n",
    "        d = 2**(rb - i)\n",
    "        # Es c (accumulator) + d (2^(rb-i)) <= el numero (x)? Si es asi, 2^(rb-i) esta en la combinacion.\n",
    "        # If c + d > x then this power of 2 doesn't fit, it's not in the sum of powers of 2.\n",
    "        if c + d <= x:\n",
    "            # Anyadir (rb-i) a la lista.\n",
    "            res.append(rb-i)\n",
    "            # Sumar d al acumulador.\n",
    "            c += d\n",
    "    # Devolver la lista.\n",
    "    return res\n",
    "\n",
    "print(bincomb(15)) # Esperado [3,2,1,0]\n",
    "print(bincomb(256)) # Esperado [8]\n",
    "print ([2**i for i in bincomb(30)]) # Esperado [16, 8, 4, 2]\n",
    "print (sum([2**i for i in bincomb(30)])) # Esperado 30"
   ]
  },
  {
   "cell_type": "code",
   "execution_count": 5,
   "id": "bc4d3733-0a9e-4504-8a9b-a33287fc6d7d",
   "metadata": {},
   "outputs": [
    {
     "name": "stdout",
     "output_type": "stream",
     "text": [
      "b'10000011'\n",
      "b'10000'\n"
     ]
    }
   ],
   "source": [
    "# Devuelve una cadena de texto con la representacion binaria de x.\n",
    "def binrepr(x: int)->str:\n",
    "    # Lista con las potencias de 2 en la combinacion de x\n",
    "    f = bincomb(x)\n",
    "    # Salida\n",
    "    out = \"\"\n",
    "    \n",
    "    # 0 <= i <= rbits(x)\n",
    "    # range(a,b) es un intervalo abierto en b, tal que [a, b) o a <= i < b.\n",
    "    # rbits(x)+1 lo cierra en rbits(x), tal que [0, rbits(x)]\n",
    "    for i in range(0,rbits(x)+1):\n",
    "        # Anyade un '1' a la cadena si i esta en la lista de exponentes.\n",
    "        # En caso contrario, anyade un '0'.\n",
    "        out += \"1\" if i in f else \"0\"\n",
    "    # El texto con los bits esta invertido, ya que hemos iterado de 0 a rbits(x)\n",
    "    # dado que esto es Python, es mas facil hacerlo asi y luego invertir el texto\n",
    "    # usando out[::-1]. El resto es b'{bits}'\n",
    "    return f\"b'{out[::-1]}'\"\n",
    "\n",
    "print(binrepr(131)) # b'1000011'\n",
    "print(binrepr(16)) # b'10000'"
   ]
  },
  {
   "cell_type": "markdown",
   "id": "5bc1d709-9cd8-4a0a-8eec-d54b9d912da6",
   "metadata": {},
   "source": [
    "## Bibliografia y recursos\n",
    "\n",
    "1. Matematicas discretas con aplicaciones (Susanna S. Epp)\n",
    "2. Wikipedia [Binary Number](https://en.wikipedia.org/wiki/Binary_number)\n",
    "3. Wikipedia [Multiset](https://en.wikipedia.org/wiki/Multiset)\n",
    "4. Wikipedia [Cardinality](https://en.wikipedia.org/wiki/Cardinality)"
   ]
  },
  {
   "cell_type": "code",
   "execution_count": null,
   "id": "5590253e-a508-4d12-98bf-2b2fdd09b15b",
   "metadata": {},
   "outputs": [],
   "source": []
  }
 ],
 "metadata": {
  "kernelspec": {
   "display_name": "Python 3 (ipykernel)",
   "language": "python",
   "name": "python3"
  },
  "language_info": {
   "codemirror_mode": {
    "name": "ipython",
    "version": 3
   },
   "file_extension": ".py",
   "mimetype": "text/x-python",
   "name": "python",
   "nbconvert_exporter": "python",
   "pygments_lexer": "ipython3",
   "version": "3.11.1"
  },
  "title": "Representacion binaria",
"authors": [
  { "name": "Aarón C.d.C" }
]
 },
 "nbformat": 4,
 "nbformat_minor": 5
}
