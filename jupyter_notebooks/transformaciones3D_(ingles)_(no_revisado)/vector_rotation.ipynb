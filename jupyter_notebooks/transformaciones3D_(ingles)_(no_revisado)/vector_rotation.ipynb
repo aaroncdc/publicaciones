{
 "cells": [
  {
   "cell_type": "code",
   "execution_count": 1,
   "id": "5a569bc8-2c10-43cc-bf84-7f2c13690e46",
   "metadata": {
    "tags": []
   },
   "outputs": [],
   "source": [
    "from sympy import *\n",
    "z,y,z,t = symbols('x y z t')\n",
    "init_printing(use_unicode=True)"
   ]
  },
  {
   "cell_type": "code",
   "execution_count": 57,
   "id": "766f8b4a-34ef-4364-8e50-65b426ef726f",
   "metadata": {
    "tags": []
   },
   "outputs": [],
   "source": [
    "def getAngles(x,y,z):\n",
    "    if x+y+z == 0:\n",
    "        return None\n",
    "    mag = sqrt(x**2+y**2+z**2)\n",
    "    return {\"phi\": asin(y/mag), \"theta\": asin(z/mag), \"omega\": acos(z/mag), \"lambda\": asin(x/mag)}"
   ]
  },
  {
   "cell_type": "code",
   "execution_count": 58,
   "id": "3c90a697-9840-4d87-9f7b-4d553c89b3f0",
   "metadata": {
    "tags": []
   },
   "outputs": [
    {
     "data": {
      "text/plain": [
       "{'phi': pi/2, 'theta': 0, 'omega': pi/2, 'lambda': 0}"
      ]
     },
     "execution_count": 58,
     "metadata": {},
     "output_type": "execute_result"
    }
   ],
   "source": [
    "ang = getAngles(0,1,0)\n",
    "ang"
   ]
  },
  {
   "cell_type": "code",
   "execution_count": 59,
   "id": "8d0c3d5e-a9e8-4bd7-9646-5d4912132353",
   "metadata": {
    "tags": []
   },
   "outputs": [
    {
     "data": {
      "image/png": "[encoded data removed]",
      "text/latex": [
       "$\\displaystyle \\pi$"
      ],
      "text/plain": [
       "π"
      ]
     },
     "execution_count": 59,
     "metadata": {},
     "output_type": "execute_result"
    }
   ],
   "source": [
    "ang[\"phi\"] + ang[\"omega\"]"
   ]
  },
  {
   "cell_type": "code",
   "execution_count": 118,
   "id": "4d265122-18e5-4244-90ef-1832417f644f",
   "metadata": {
    "tags": []
   },
   "outputs": [
    {
     "data": {
      "image/png": "[encoded data removed]",
      "text/latex": [
       "$\\displaystyle \\left[\\begin{matrix}\\frac{\\sqrt{2}}{2}\\\\0\\\\\\frac{\\sqrt{2}}{2}\\end{matrix}\\right]$"
      ],
      "text/plain": [
       "⎡√2⎤\n",
       "⎢──⎥\n",
       "⎢2 ⎥\n",
       "⎢  ⎥\n",
       "⎢0 ⎥\n",
       "⎢  ⎥\n",
       "⎢√2⎥\n",
       "⎢──⎥\n",
       "⎣2 ⎦"
      ]
     },
     "execution_count": 118,
     "metadata": {},
     "output_type": "execute_result"
    }
   ],
   "source": [
    "def vectorFromAngles(theta, phi, mag=1):\n",
    "    if theta + pi == 0:\n",
    "        return Matrix(([0],[0],[1]))\n",
    "    return Matrix(([mag*cos(phi)*sin(theta)],[mag*sin(phi)*sin(theta)],[mag*cos(theta)]))\n",
    "vectorFromAngles(pi/4,0)"
   ]
  },
  {
   "cell_type": "code",
   "execution_count": 99,
   "id": "15d55608-d142-47f6-a236-eb30e0123644",
   "metadata": {
    "tags": []
   },
   "outputs": [
    {
     "data": {
      "image/png": "[encoded data removed]",
      "text/latex": [
       "$\\displaystyle \\frac{\\pi}{4}$"
      ],
      "text/plain": [
       "π\n",
       "─\n",
       "4"
      ]
     },
     "execution_count": 99,
     "metadata": {},
     "output_type": "execute_result"
    }
   ],
   "source": [
    "asin(6/sqrt(6**2+6**2))"
   ]
  },
  {
   "cell_type": "code",
   "execution_count": 4,
   "id": "dff31aec-914c-43e9-80d4-f35d05e92abf",
   "metadata": {},
   "outputs": [],
   "source": [
    "def cosineAngles(x,y,z):\n",
    "    norm = sqrt(x**2+y**2+z**2)\n",
    "    return Matrix(([acos(x/norm)],[acos(y/norm)],[acos(z/norm)]))"
   ]
  },
  {
   "cell_type": "code",
   "execution_count": 5,
   "id": "7c114163-ebe3-44b1-be84-7e50355f3f72",
   "metadata": {
    "tags": []
   },
   "outputs": [
    {
     "data": {
      "image/png": "[encoded data removed]",
      "text/latex": [
       "$\\displaystyle \\left[\\begin{matrix}\\frac{\\pi}{2}\\\\\\frac{\\pi}{2}\\\\0\\end{matrix}\\right]$"
      ],
      "text/plain": [
       "⎡π⎤\n",
       "⎢─⎥\n",
       "⎢2⎥\n",
       "⎢ ⎥\n",
       "⎢π⎥\n",
       "⎢─⎥\n",
       "⎢2⎥\n",
       "⎢ ⎥\n",
       "⎣0⎦"
      ]
     },
     "execution_count": 5,
     "metadata": {},
     "output_type": "execute_result"
    }
   ],
   "source": [
    "cosineAngles(0,0,1)"
   ]
  },
  {
   "cell_type": "code",
   "execution_count": 6,
   "id": "436a06a1-0b37-4c96-b480-cd99cde066ed",
   "metadata": {
    "tags": []
   },
   "outputs": [],
   "source": [
    "def vectFromAngles(alpha,beta,gamma,norm=1):\n",
    "    return Matrix(([norm*cos(alpha)],[norm*cos(beta)],[norm*cos(gamma)]))"
   ]
  },
  {
   "cell_type": "code",
   "execution_count": 10,
   "id": "ec9ca6d4-ebfb-4d77-9d53-32d5608dae58",
   "metadata": {
    "tags": []
   },
   "outputs": [
    {
     "data": {
      "image/png": "[encoded data removed]",
      "text/latex": [
       "$\\displaystyle \\left[\\begin{matrix}0\\\\0\\\\1\\end{matrix}\\right]$"
      ],
      "text/plain": [
       "⎡0⎤\n",
       "⎢ ⎥\n",
       "⎢0⎥\n",
       "⎢ ⎥\n",
       "⎣1⎦"
      ]
     },
     "execution_count": 10,
     "metadata": {},
     "output_type": "execute_result"
    }
   ],
   "source": [
    "vectFromAngles(pi/2,pi/2,0,1)"
   ]
  },
  {
   "cell_type": "code",
   "execution_count": null,
   "id": "0263be79-9fb2-4f62-b28b-88fb4c1bccdd",
   "metadata": {},
   "outputs": [],
   "source": []
  }
 ],
 "metadata": {
  "kernelspec": {
   "display_name": "Python 3 (ipykernel)",
   "language": "python",
   "name": "python3"
  },
  "language_info": {
   "codemirror_mode": {
    "name": "ipython",
    "version": 3
   },
   "file_extension": ".py",
   "mimetype": "text/x-python",
   "name": "python",
   "nbconvert_exporter": "python",
   "pygments_lexer": "ipython3",
   "version": "3.11.1"
  }
 },
 "nbformat": 4,
 "nbformat_minor": 5
}
