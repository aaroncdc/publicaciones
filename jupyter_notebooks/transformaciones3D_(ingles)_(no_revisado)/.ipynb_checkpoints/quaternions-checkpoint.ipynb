{
 "cells": [
  {
   "cell_type": "code",
   "execution_count": 1,
   "id": "8f9b23ef-13ce-4eb1-9611-0b2fa1f97e64",
   "metadata": {
    "tags": []
   },
   "outputs": [],
   "source": [
    "from sympy import *\n",
    "x,y,z,t,u,v,w = symbols('x y z t u v w')\n",
    "init_printing(use_unicode=True)"
   ]
  },
  {
   "cell_type": "code",
   "execution_count": 10,
   "id": "9e42f490-3546-419d-b729-abcddd7be31c",
   "metadata": {
    "tags": []
   },
   "outputs": [
    {
     "data": {
      "image/png": "[encoded data removed]",
      "text/latex": [
       "$\\displaystyle \\left[ \\sqrt{\\frac{\\sqrt{2}}{4} + \\frac{1}{2}}, \\  0, \\  \\sqrt{\\frac{1}{2} - \\frac{\\sqrt{2}}{4}}, \\  0\\right]$"
      ],
      "text/plain": [
       "⎡    ________         ________   ⎤\n",
       "⎢   ╱ √2   1         ╱ 1   √2    ⎥\n",
       "⎢  ╱  ── + ─ , 0,   ╱  ─ - ── , 0⎥\n",
       "⎣╲╱   4    2      ╲╱   2   4     ⎦"
      ]
     },
     "execution_count": 10,
     "metadata": {},
     "output_type": "execute_result"
    }
   ],
   "source": [
    "theta = pi/4\n",
    "x = 0\n",
    "y = 1\n",
    "z = 0\n",
    "an = sin(theta/2)\n",
    "q = [cos(theta/2),x*an,y*an,z*an]\n",
    "q"
   ]
  },
  {
   "cell_type": "code",
   "execution_count": 13,
   "id": "fbfd4ae5-26db-4bde-84cb-d245499dfd86",
   "metadata": {
    "tags": []
   },
   "outputs": [
    {
     "data": {
      "image/png": "[encoded data removed]",
      "text/latex": [
       "$\\displaystyle \\left[\\begin{matrix}\\frac{\\sqrt{2}}{2} & 0 & 2 \\sqrt{\\frac{1}{2} - \\frac{\\sqrt{2}}{4}} \\sqrt{\\frac{\\sqrt{2}}{4} + \\frac{1}{2}}\\\\0 & 1 & 0\\\\- 2 \\sqrt{\\frac{1}{2} - \\frac{\\sqrt{2}}{4}} \\sqrt{\\frac{\\sqrt{2}}{4} + \\frac{1}{2}} & 0 & 1\\end{matrix}\\right]$"
      ],
      "text/plain": [
       "⎡                                       ________     ________⎤\n",
       "⎢             √2                       ╱ 1   √2     ╱ √2   1 ⎥\n",
       "⎢             ──               0  2⋅  ╱  ─ - ── ⋅  ╱  ── + ─ ⎥\n",
       "⎢             2                     ╲╱   2   4   ╲╱   4    2 ⎥\n",
       "⎢                                                            ⎥\n",
       "⎢             0                1               0             ⎥\n",
       "⎢                                                            ⎥\n",
       "⎢       ________     ________                                ⎥\n",
       "⎢      ╱ 1   √2     ╱ √2   1                                 ⎥\n",
       "⎢-2⋅  ╱  ─ - ── ⋅  ╱  ── + ─   0               1             ⎥\n",
       "⎣   ╲╱   2   4   ╲╱   4    2                                 ⎦"
      ]
     },
     "execution_count": 13,
     "metadata": {},
     "output_type": "execute_result"
    }
   ],
   "source": [
    "M = Matrix((\n",
    "[q[0]**2+q[1]**2-q[2]**2-q[3]**2, 2*q[1]*q[2]-2*q[0]*q[3], 2*q[1]*q[3]+2*q[0]*q[2]],\n",
    "[2*q[1]*q[2]+2*q[0]*q[3], q[0]**2-q[1]**2+q[2]**2-q[3]**2, 2*q[2]*q[3]-2*q[0]*q[1]],\n",
    "[2*q[1]*q[3]-2*q[0]*q[2], 2*q[2]*q[3]+2*q[0]*q[1], q[0]**2-q[1]**2+q[2]**2+q[3]**2]\n",
    "))\n",
    "M"
   ]
  },
  {
   "cell_type": "code",
   "execution_count": 16,
   "id": "82a21ba8-b63c-4ed5-89bf-08aac4ce26af",
   "metadata": {
    "tags": []
   },
   "outputs": [
    {
     "data": {
      "image/png": "[encoded data removed]",
      "text/latex": [
       "$\\displaystyle \\frac{\\pi}{4}$"
      ],
      "text/plain": [
       "π\n",
       "─\n",
       "4"
      ]
     },
     "execution_count": 16,
     "metadata": {},
     "output_type": "execute_result"
    }
   ],
   "source": [
    "rad = 2*acos(q[0])\n",
    "rad"
   ]
  },
  {
   "cell_type": "code",
   "execution_count": 17,
   "id": "bed1d908-fefb-4b95-b8b0-0dff7f7ac659",
   "metadata": {
    "tags": []
   },
   "outputs": [
    {
     "data": {
      "image/png": "[encoded data removed]",
      "text/latex": [
       "$\\displaystyle \\left[ 0, \\  1, \\  0\\right]$"
      ],
      "text/plain": [
       "[0, 1, 0]"
      ]
     },
     "execution_count": 17,
     "metadata": {},
     "output_type": "execute_result"
    }
   ],
   "source": [
    "[q[1]/sin(theta/2),q[2]/sin(theta/2),q[3]/sin(theta/2)]"
   ]
  },
  {
   "cell_type": "code",
   "execution_count": 19,
   "id": "17cf963f-c260-43d4-989c-c5d98a255dcb",
   "metadata": {
    "tags": []
   },
   "outputs": [
    {
     "data": {
      "image/png": "[encoded data removed]",
      "text/latex": [
       "$\\displaystyle \\left[\\begin{matrix}-6\\\\1\\\\10\\\\-7\\end{matrix}\\right]$"
      ],
      "text/plain": [
       "⎡-6⎤\n",
       "⎢  ⎥\n",
       "⎢1 ⎥\n",
       "⎢  ⎥\n",
       "⎢10⎥\n",
       "⎢  ⎥\n",
       "⎣-7⎦"
      ]
     },
     "execution_count": 19,
     "metadata": {},
     "output_type": "execute_result"
    }
   ],
   "source": [
    "N = Matrix((\n",
    "    [0,-1,-2,-3],\n",
    "    [1,1,4,4],\n",
    "    [1,3,7,9],\n",
    "    [-1,-2,-4,-6]\n",
    "))\n",
    "SOL = Matrix((\n",
    "    [0],\n",
    "    [7],\n",
    "    [4],\n",
    "    [6]\n",
    "))\n",
    "N.inv() * SOL"
   ]
  },
  {
   "cell_type": "code",
   "execution_count": 20,
   "id": "eff11a51-1810-4080-8c1e-70c613803221",
   "metadata": {
    "tags": []
   },
   "outputs": [
    {
     "data": {
      "image/png": "[encoded data removed]",
      "text/latex": [
       "$\\displaystyle -42$"
      ],
      "text/plain": [
       "-42"
      ]
     },
     "execution_count": 20,
     "metadata": {},
     "output_type": "execute_result"
    }
   ],
   "source": [
    "-1-20-21"
   ]
  },
  {
   "cell_type": "code",
   "execution_count": null,
   "id": "5c5b7bfe-74ad-40dd-98cd-1c723d339089",
   "metadata": {},
   "outputs": [],
   "source": []
  }
 ],
 "metadata": {
  "kernelspec": {
   "display_name": "Python 3 (ipykernel)",
   "language": "python",
   "name": "python3"
  },
  "language_info": {
   "codemirror_mode": {
    "name": "ipython",
    "version": 3
   },
   "file_extension": ".py",
   "mimetype": "text/x-python",
   "name": "python",
   "nbconvert_exporter": "python",
   "pygments_lexer": "ipython3",
   "version": "3.11.1"
  }
 },
 "nbformat": 4,
 "nbformat_minor": 5
}
