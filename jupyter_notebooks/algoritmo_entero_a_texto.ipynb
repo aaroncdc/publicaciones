{
 "cells": [
  {
   "cell_type": "markdown",
   "id": "a423ff06-24f1-4ecf-83ea-c6c7d704d1ce",
   "metadata": {},
   "source": [
    "# Implementación no optimizada de un algoritmo de conversión de número entero a texto (inttostr)"
   ]
  },
  {
   "cell_type": "code",
   "execution_count": 18,
   "id": "b6cd0db7-41d1-45a3-a7ff-7400d3ccd7f3",
   "metadata": {
    "tags": []
   },
   "outputs": [
    {
     "name": "stdout",
     "output_type": "stream",
     "text": [
      "4\n"
     ]
    }
   ],
   "source": [
    "number = -5486\n",
    "\n",
    "def intlen(x: int)->int:\n",
    "    i = 1\n",
    "    while abs(x)/10**i >= 1:\n",
    "        i += 1\n",
    "    return i\n",
    "    \n",
    "print(intlen(number))"
   ]
  },
  {
   "cell_type": "code",
   "execution_count": 96,
   "id": "390aef2f-abcd-4518-aec7-65273b29d659",
   "metadata": {
    "tags": []
   },
   "outputs": [
    {
     "name": "stdout",
     "output_type": "stream",
     "text": [
      "-12345654321\n"
     ]
    }
   ],
   "source": [
    "def inttostr(x: int)->str:\n",
    "    if abs(x) > 999999999999999:\n",
    "        return \"0\" # FP inaccuracy after 15 digits\n",
    "    out = \"\"\n",
    "    intln = intlen(x)\n",
    "    if x < 0:\n",
    "        out += \"-\"\n",
    "    for i in range(0, intln):\n",
    "        d = abs(int(x/10**(intln-i-1)))\n",
    "        for j in range(0, i):\n",
    "            d -= abs(int(d/10**(i-j)))*10**(i-j)\n",
    "        out += str(d)\n",
    "    return out\n",
    "\n",
    "print(inttostr(-12345654321))"
   ]
  },
  {
   "cell_type": "code",
   "execution_count": null,
   "id": "bbff955a-363f-4024-b337-a9b7ac18f53b",
   "metadata": {},
   "outputs": [],
   "source": []
  },
  {
   "cell_type": "code",
   "execution_count": null,
   "id": "cd61c785-78ee-4955-92d7-c238d7a61df6",
   "metadata": {},
   "outputs": [],
   "source": []
  }
 ],
 "metadata": {
  "kernelspec": {
   "display_name": "Python 3 (ipykernel)",
   "language": "python",
   "name": "python3"
  },
  "language_info": {
   "codemirror_mode": {
    "name": "ipython",
    "version": 3
   },
   "file_extension": ".py",
   "mimetype": "text/x-python",
   "name": "python",
   "nbconvert_exporter": "python",
   "pygments_lexer": "ipython3",
   "version": "3.11.1"
  }
 },
 "nbformat": 4,
 "nbformat_minor": 5
}
