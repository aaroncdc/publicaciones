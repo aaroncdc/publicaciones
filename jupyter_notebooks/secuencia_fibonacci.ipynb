{
 "cells": [
  {
   "cell_type": "code",
   "execution_count": 1,
   "id": "c69b1902-c7dd-4a57-af4d-23bce57743d3",
   "metadata": {
    "tags": []
   },
   "outputs": [],
   "source": [
    "# Inicialización del entorno\n",
    "%matplotlib notebook\n",
    "%matplotlib inline\n",
    "from sympy.interactive import printing\n",
    "printing.init_printing(use_latex=True)\n",
    "import numpy as np\n",
    "import sympy as sp\n",
    "import matplotlib.pyplot as plt\n",
    "import spb as spb\n",
    "from math import sqrt\n",
    "\n",
    "# Importar los símbolos de sympy\n",
    "x,y,z,t = sp.symbols('x y, z, t')"
   ]
  },
  {
   "cell_type": "markdown",
   "id": "0164248e-657e-4526-8a1e-541990afecb1",
   "metadata": {},
   "source": [
    "# Secuencia de Fibonacci\n",
    "\n",
    "$F_n = F_{n-1} + F_{n-2} \\ \\ \\forall n \\in \\mathbb{Z}(n \\geq 2) $\n",
    "\n",
    "Condiciones iniciales: $F_0 = F_1 = 1$\n",
    "\n",
    "$1,1,2,3,5,8,13,21,34,55,89,144,\\dots$\n",
    "\n",
    "# Fórmula para la relación de recurrencia de la secuencia de Fibonacci\n",
    "\n",
    "La sucesión de Fibonacci satisface parte de la hipótesis del teorema de raíces distintas, ya que la relación de Fibonacci es una relación de recurrencia de segundo orden lineal y homogénea con coeficientes constantes $A = 1$ y $B = 1$.\n",
    "\n",
    "La ecuación característica\n",
    "\n",
    "$t^2 - t - 1 = 0$ tiene las raíces:\n",
    "\n",
    "$ \\displaystyle{t = \\frac{1 \\pm \\sqrt{1-4(-1)}}{2} = \\begin{cases}\n",
    "\\frac{1 + \\sqrt{5}}{2}\\\\\n",
    "\\frac{1 - \\sqrt{5}}{2}\n",
    "\\end{cases}} $"
   ]
  },
  {
   "cell_type": "code",
   "execution_count": 2,
   "id": "b5803bdf-4588-4677-9eb5-042e7b9a761c",
   "metadata": {
    "tags": []
   },
   "outputs": [
    {
     "data": {
      "image/png": "[encoded data removed]",
      "text/latex": [
       "$\\displaystyle \\left[ \\frac{1}{2} - \\frac{\\sqrt{5}}{2}, \\  \\frac{1}{2} + \\frac{\\sqrt{5}}{2}\\right]$"
      ],
      "text/plain": [
       "⎡1   √5  1   √5⎤\n",
       "⎢─ - ──, ─ + ──⎥\n",
       "⎣2   2   2   2 ⎦"
      ]
     },
     "execution_count": 2,
     "metadata": {},
     "output_type": "execute_result"
    }
   ],
   "source": [
    "# Ecuación t^2 - t - 1\n",
    "eq = sp.Eq(t**2-t-1,0)\n",
    "# Buscar las soluciones para la ecuación\n",
    "sp.solve(eq, t)"
   ]
  },
  {
   "cell_type": "markdown",
   "id": "d3f7f640-6c43-4732-80cb-6fc555c11e84",
   "metadata": {},
   "source": [
    "Por tanto, tiene dos raíces distintas. Del teorema de raíces distintas se deduce que:\n",
    "\n",
    "$\\displaystyle{ F_n = C \\left( \\frac{1+\\sqrt{5}}{2} \\right)^n + D \\left( \\frac{1+\\sqrt{5}}{2} \\right)^n \\ \\ \\forall n \\in \\mathbb{Z} (n \\geq 0)}$\n",
    "\n",
    "C y D son los números cuyos valores se determinan por el hecho de que $F_0 = F_1 = 1$. Para encontrar C y D:\n",
    "\n",
    "$\\displaystyle{F_0 = 1 = C \\left( \\frac{1+\\sqrt{5}}{2} \\right)^0 + D \\left( \\frac{1+\\sqrt{5}}{2} \\right)^0 = C + D }$\n",
    "\n",
    "$\\displaystyle{F_1 = 1 = C \\left( \\frac{1+\\sqrt{5}}{2} \\right)^1 + D \\left( \\frac{1+\\sqrt{5}}{2} \\right)^1 = C\\left( \\frac{1+\\sqrt{5}}{2} \\right) + D\\left( \\frac{1-\\sqrt{5}}{2} \\right) }$\n",
    "\n",
    "Lo que nos deja el siguiente sistema de ecuaciones:\n",
    "\n",
    "$\\displaystyle{\\begin{cases} C + D = 1 \\\\ Ca + Db = 1 \\end{cases}}$\n",
    "\n",
    "para $\\displaystyle{a = \\frac{1+\\sqrt{5}}{2}}$ y $\\displaystyle{b = \\frac{1+\\sqrt{5}}{2}}$.\n",
    "\n",
    "Resolviendo para C y D:\n",
    "\n",
    "$\\displaystyle{C = 1 - D}$\n",
    "\n",
    "$\\displaystyle{(1-D)a + Db = 1}$\n",
    "\n",
    "$\\displaystyle{a - Da - Db = 1}$\n",
    "\n",
    "$\\displaystyle{a - D(a+b) = 1}$\n",
    "\n",
    "$\\displaystyle{D = \\frac{a-1}{a-b} = \\frac{a-1}{\\sqrt{5}} = -\\frac{(1-\\sqrt{5})}{2 \\sqrt{5}}}$\n",
    "\n",
    "Sustituyendo D en la primera ecuación:\n",
    "\n",
    "$\\displaystyle{C = 1 + \\frac{1-\\sqrt{5}}{2\\sqrt{5}} = \\frac{1+\\sqrt{5}}{2\\sqrt{5}}}$"
   ]
  },
  {
   "cell_type": "code",
   "execution_count": 3,
   "id": "bb576558-b30a-459a-8923-5e51b5775ef5",
   "metadata": {
    "tags": []
   },
   "outputs": [
    {
     "data": {
      "text/plain": [
       "'Soluciones: C = 0.723606797749979 D = 0.276393202250021'"
      ]
     },
     "metadata": {},
     "output_type": "display_data"
    },
    {
     "data": {
      "text/plain": [
       "'C + D = 0.723606797749979 + 0.276393202250021 = 1.00000000000000'"
      ]
     },
     "metadata": {},
     "output_type": "display_data"
    },
    {
     "data": {
      "text/plain": [
       "'Ca + Db = 1.17082039324994 + -0.170820393249937 = 1.00000000000000'"
      ]
     },
     "metadata": {},
     "output_type": "display_data"
    }
   ],
   "source": [
    "# Declarar a,b,C,D como símbolos\n",
    "a,b,C,D = sp.symbols('a,b,C D')\n",
    "# a y b \n",
    "a = (1 + sqrt(5))/2\n",
    "b = (1 - sqrt(5))/2\n",
    "\n",
    "# Ecuaciones del sistema\n",
    "eq1 = sp.Eq(C + D, 1)\n",
    "eq2 = sp.Eq(C*a + D*b, 1)\n",
    "\n",
    "# Resolver como un sistema de ecuaciones lineales\n",
    "sol = list(sp.linsolve([eq1,eq2],(C,D))) # linsolve retorna un CONJUNTO de PARES ORDENADOS (no una lista)\n",
    "\n",
    "# Para conjuntos FINITOS (FiniteSet), se puede convertir el conjunto a lista con list(FiniteSet)\n",
    "# Para conjuntos INFINITOS, esto no es posible. Se usarán iteradores cuando proceda.\n",
    "\n",
    "display(f\"Soluciones: C = {sol[0][0]} D = {sol[0][1]}\")\n",
    "display(f\"C + D = {sol[0][0]} + {sol[0][1]} = {sol[0][0] + sol[0][1]}\")\n",
    "display(f\"Ca + Db = {sol[0][0] * a} + {sol[0][1] * b} = {(sol[0][0]*a) + (sol[0][1] * b)}\")"
   ]
  },
  {
   "cell_type": "markdown",
   "id": "fe09b96e-ec57-430b-a0ec-ba2750cccbf6",
   "metadata": {},
   "source": [
    "Cabe destacar que D = - C.\n",
    "\n",
    "Sustituyendo estos valores para C y D en la fórmula para $F_n$, se obtiene:\n",
    "\n",
    "$\\displaystyle{ F_n = \\left( \\frac{1+ \\sqrt{5}}{2\\sqrt{5}} \\right)\\left( \\frac{1+ \\sqrt{5}}{2} \\right)^n + \\left( \\frac{-(1- \\sqrt{5})}{2\\sqrt{5}} \\right)\\left( \\frac{1 - \\sqrt{5}}{2} \\right)^n }$\n",
    "\n",
    "Que se simplifica como\n",
    "\n",
    "$\\displaystyle{ F_n = \\frac{1}{\\sqrt{5}} \\left( \\left(\\frac{1+ \\sqrt{5}}{2} \\right)^{n+1} - \\left( \\frac{1- \\sqrt{5}}{2} \\right)^{n+1} \\right) }$"
   ]
  },
  {
   "cell_type": "code",
   "execution_count": 4,
   "id": "2a7da6df-49c5-495c-aaa4-d956263f6cd2",
   "metadata": {
    "tags": []
   },
   "outputs": [
    {
     "data": {
      "image/png": "[encoded data removed]",
      "text/latex": [
       "$\\displaystyle \\left[ 1, \\  1, \\  2, \\  3, \\  5, \\  8, \\  13, \\  21, \\  34, \\  55, \\  89, \\  144\\right]$"
      ],
      "text/plain": [
       "[1, 1, 2, 3, 5, 8, 13, 21, 34, 55, 89, 144]"
      ]
     },
     "metadata": {},
     "output_type": "display_data"
    }
   ],
   "source": [
    "# 1/sqrt(5)\n",
    "msqrt = 1/sqrt(5)\n",
    "# Función para calcular el enésimo término de Fibonacci\n",
    "def fib1(n):\n",
    "    return msqrt * (a**(n+1) - b**(n+1))\n",
    "\n",
    "fibs = []\n",
    "# Calcula 11 terminos y los introduce en una lista\n",
    "for n in range(0,12):\n",
    "    fibs.append(int(fib1(n)))\n",
    "    \n",
    "# Muestra los términos calculados\n",
    "display(fibs)"
   ]
  },
  {
   "cell_type": "markdown",
   "id": "a22164d2-6e80-433f-b041-b58b34548353",
   "metadata": {},
   "source": [
    "# Número Aureo\n",
    "\n",
    "El número Aureo es un número irracional representado por la letra griega $\\varphi$ (phi) o $\\phi$ (Phi mayúscula). Se corresponde con cada una de las raíces de la relación de Fibonacci:\n",
    "\n",
    "$\\displaystyle{\\varphi = \\frac{1 + \\sqrt{5}}{2} \\approx 1.618033988749894}$ y $\\displaystyle{\\phi = \\frac{1 - \\sqrt{5}}{2} \\approx -0.618033988749894}$ \n",
    "\n",
    "La fórmula de la sucesión de Fibonacci se simplifica como\n",
    "\n",
    "$\\displaystyle{ F_n = \\frac{\\varphi^{n+1}}{\\sqrt{5}} - \\frac{\\phi^{n+1}}{\\sqrt{5}} }$"
   ]
  },
  {
   "cell_type": "markdown",
   "id": "8b49fc0d-6d5e-4b50-8b8b-d85c93bc37fa",
   "metadata": {},
   "source": [
    "# Optimización\n",
    "\n",
    "La fórmula de recursión obtenida se puede simplificar aún más como\n",
    "\n",
    "$\\displaystyle{ F_n = \\lfloor \\frac{\\varphi^{n+1}}{\\sqrt{5} } \\rceil }$\n",
    "\n",
    "usando el hecho de que $-1 < \\frac{\\phi^{n+1}}{\\sqrt{5}} < 1  \\ \\ \\forall n \\in \\mathbb{Z}(n \\geq 0) $\n",
    "\n",
    "### Prueba de la optimización:\n",
    "\n",
    "Para probar que la fórmula de la optimización para la secuencia de Fibonacci es verdadera, primero hay que probar las siguientes afirmaciones\n",
    "\n",
    "### - Teorema 1: Rango de valores para $n = \\frac{p}{q}$ donde $p,q \\in \\mathbb{R}$\n",
    "\n",
    "Sea $n$ un número real dado por la fórmula $n = \\frac{p}{q}$ para dos números reales $p,q$:\n",
    "\n",
    "- Si $p > q$ entonces $1 < n$.\n",
    "- Si $p = q$ entonces $n = 1$.\n",
    "- Si $p < q$ entonces $0 < n < 1$.\n",
    "\n",
    "Siempre que $p,q \\geq 1$.\n",
    "\n",
    "Para el resto de valores, supongamos que $0 < p < 1$. Entonces $p = \\frac{r}{s}$ para dos números reales $r < s$  con $r > 1$ y $s > 1$. Por tanto:\n",
    "\n",
    "$\\displaystyle{n = \\frac{p}{q} = \\frac{r}{qs}}$\n",
    "\n",
    "Como $r < s$ y $q \\geq 1$, entonces $r < qs$ y, por, tanto $0 < \\frac{r}{qs} < 1$.\n",
    "\n",
    "Por otro lado, si $0 < q < 1$, entonces $q = \\frac{r}{s}$ para dos números reales $r < s$ con $r > 1$ y $s > 1$. Por tanto:\n",
    "\n",
    "$\\displaystyle{n = \\frac{sp}{r}}$\n",
    "\n",
    "Como $r < s$, entonces $r < sp$ y por tanto $1 < \\frac{sp}{r}$.\n",
    "\n",
    "______________________________________________________\n",
    "\n",
    "### - Corolario 1:\n",
    "\n",
    "Dada una fracción $\\frac{p}{q}$, si $0 < p < 1$ y $q \\geq 1$ ($q \\in \\mathbb{R}$), entonces $0 < (\\frac{p}{q})^n < 1$ para todo $n \\in \\mathbb{Z} \\geq 1$\n",
    "\n",
    "** Prueba **: Por el teorema 1, cuando $0 < p < 1$ y $q \\geq 1$, tenemos que:\n",
    "\n",
    "$\\displaystyle{0 < \\frac{r}{qs} < 1}$\n",
    "\n",
    "Aplicando la enésima potencia a cada lado de la inigualdad, siendo $n \\in \\mathbb{Z} \\geq 1$:\n",
    "\n",
    "$\\displaystyle{0 < (\\frac{r}{qs})^n < 1}$ o, multiplicando previamente por $qs$ a cada lado, $\\displaystyle{r^n < (qs)^n}$.\n",
    "\n",
    "______________________________________________________\n",
    "\n",
    "### - Corolario 2:\n",
    "\n",
    "Dada una fracción $\\frac{p}{q}$, si $0 < p < 1$ y $q \\geq 1$ ($q \\in \\mathbb{R}$), entonces $(\\frac{p}{q})^n \\to 0$ cuando $n \\to \\infty$ y $n \\in \\mathbb{Z}$\n",
    "\n",
    "** Prueba **: Por el corolario 1, tenemos que $p = (\\frac{r}{qs})^n$ con $r < qs$. Ya que $r < qs$, al incrementar $n$, $r^n < (qs)^n$.\n",
    "$qs^n$ crece más rápido que $r^n$ y, por tanto, $(\\frac{p}{q})^n \\to 0$ cuando $n \\to \\infty$.\n",
    "\n",
    "______________________________________________________\n",
    "### - Teorema 2: Si $0 < n=\\frac{p}{q} < 1 \\ \\ $ y $ \\ \\ 0 < m=\\frac{r}{s} < 1 \\ \\ $ para los números reales $p,q,r,s \\geq 1$, entonces $0 < nm < 1$\n",
    "\n",
    "** Prueba **: Por el teorema 1, ya que $0 < n < 1$ y $0 < m < 1$, entonces $p < q$ y $r < s$. Por tanto, $0 < \\frac{pr}{qs} < 1$, y $pr < qs$.\n",
    "______________________________________________________\n",
    "\n",
    "### - Teorema 3: Para todo $n \\in \\mathbb{Z} \\geq 0$, $ \\ \\ -1 < \\frac{\\phi^{n+1}}{\\sqrt{5}} < 1$:\n",
    "\n",
    "Tenemos que $\\phi = \\frac{1 - \\sqrt{5}}{2}$. El numerador $1 - \\sqrt{5} \\approx -1.236067977$, por tanto $1 - \\sqrt{5} < -1$. Y en el denominador $1 < 2$. Por tanto, el numerador es menor que el denominador. Aplicando el teorema 1 deducimos que $-1 < \\frac{1-\\sqrt{5}}{2} < 0$. Por el Corolario 1, tenemos:\n",
    "\n",
    "$\\displaystyle{\\left( \\frac{1-\\sqrt{5}}{2} \\right)^{n+1} = \\left(\\frac{1-\\sqrt{5}}{2}\\right) \\left( \\frac{1-\\sqrt{5}}{2} \\right)^n = \\phi \\cdot \\phi^n}$\n",
    "\n",
    "Usando el Teorema 2, deducimos que\n",
    "\n",
    "$\\displaystyle{-1 < \\phi \\cdot \\phi^n < 1}$\n",
    "\n",
    "Y por consiguiente\n",
    "\n",
    "$\\displaystyle{-1 < \\frac{1}{\\sqrt{5}} \\cdot (\\phi \\cdot \\phi^n) < 1}$\n",
    "\n",
    "O lo que es lo mísmo\n",
    "\n",
    "$\\displaystyle{-1 < \\frac{\\phi^{n+1}}{\\sqrt{5}} < 1}$\n",
    "\n",
    "______________________________________________________\n",
    "\n",
    "### - Corolario 3: Cuando $n \\to \\infty$, $\\displaystyle{\\frac{\\phi^{n+1}}{\\sqrt{5}} \\to 0}$\n",
    "\n",
    "Usando el corolario 2, podemos deducir que cuando $n \\to \\infty$, $\\displaystyle{\\frac{\\phi^{n+1}}{\\sqrt{5}} \\to 0}$."
   ]
  },
  {
   "cell_type": "code",
   "execution_count": 5,
   "id": "58ae51bb-91fe-491d-bf74-fd6b05775c78",
   "metadata": {
    "tags": []
   },
   "outputs": [
    {
     "data": {
      "text/plain": [
       "[<matplotlib.lines.Line2D at 0x236eac02d50>]"
      ]
     },
     "execution_count": 5,
     "metadata": {},
     "output_type": "execute_result"
    },
    {
     "data": {
      "image/png": "[encoded data removed]",
      "text/plain": [
       "<Figure size 640x480 with 1 Axes>"
      ]
     },
     "metadata": {},
     "output_type": "display_data"
    }
   ],
   "source": [
    "# Define n como un símbolo de Sympy\n",
    "n = sp.symbols('n')\n",
    "# Define b como Phi\n",
    "b = (1 - sqrt(5))/2\n",
    "\n",
    "# Calcula de n = 0 a 20 puntos y los introduce en una lísta\n",
    "puntos = [(1/sqrt(5)) * (b**(k+1)) for k in range(0,20,1)]\n",
    "\n",
    "# Muestra una gráfica con los puntos de n = 0 a 20\n",
    "plt.style.use('grayscale')\n",
    "plt.grid(which='major', color='#5a5a5a', linestyle='-')\n",
    "#plt.grid(which='minor', color='r', linestyle='-', alpha=0.2)\n",
    "plt.minorticks_on()\n",
    "plt.title(r\"Puntos de la fórmula $\\frac{\\phi^{n+1}}{\\sqrt{5}}$ para $n \\geq 0$ y $n \\in \\mathbb{Z}$\", color=\"black\")\n",
    "plt.plot([i for i in range(0,20,1)],puntos,'o')"
   ]
  },
  {
   "cell_type": "markdown",
   "id": "d33d50f3-4290-41cb-a925-c131eddc86de",
   "metadata": {},
   "source": [
    "______________________________________________________\n",
    "\n",
    "### - Corolario 4: $ -\\frac{1}{2} < \\frac{\\phi^{n+1}}{\\sqrt{5}} < \\frac{1}{2}$ para todo $n \\in \\mathbb{Z} \\geq 0$\n",
    "\n",
    "Cuando $n = 0$, $-\\frac{1}{2} < \\frac{\\phi}{\\sqrt{5}} < \\frac{1}{2}$. Por el Corolario 3 sabemos que cuando $n \\to \\infty$, $\\displaystyle{\\frac{\\phi^{n+1}}{\\sqrt{5}} \\to 0}$. Por tanto decimos que $ -\\frac{1}{2} < \\frac{\\phi^{n+1}}{\\sqrt{5}} < \\frac{1}{2}$ para todo $n \\in \\mathbb{Z} \\geq 0$.\n",
    "______________________________________________________\n",
    "\n",
    "### - Teorema 4: Para $n \\in \\mathbb{Z} \\geq 0$, $\\ \\ F_n = \\lfloor \\frac{\\varphi^{n+1}}{\\sqrt{5} } \\rceil$\n",
    "\n",
    "** Prueba **:\n",
    "\n",
    "Sea la fórmula para la sucesión de Fibonacci\n",
    "\n",
    "$\\displaystyle{ F_n = \\frac{\\varphi^{n+1}}{\\sqrt{5}} - \\frac{\\phi^{n+1}}{\\sqrt{5}} }$\n",
    "\n",
    "para todo $n \\in \\mathbb{Z} \\geq 0$, dado que el resultado es siempre un número íntegro, podemos decir que\n",
    "\n",
    "$\\displaystyle{ F_n = \\lfloor \\frac{\\varphi^{n+1}}{\\sqrt{5}} - \\frac{\\phi^{n+1}}{\\sqrt{5}} \\rceil }$\n",
    "\n",
    "Ya que el redondeo de un número íntegro es siempre el mísmo número íntegro.\n",
    "\n",
    "La definición de la función de redondeo al entero más próximo establece que un número racional o irracional $x$ se redondea al entero más bajo si la parte decimal es inferior a $0.5$ (o $\\frac{1}{2}$), y al entero más alto si es superior a $0.5$. En el caso de los medios números, se redondea al entero par más próximo. Por ejemplo, $1.5$ se redondea a $2$ ya que $2$ es el entero par más próximo, y $2.5$ se redondea a $2$ por el mísmo motivo.\n",
    "\n",
    "Por otro lado, por el corolario 4 sabemos que $-\\frac{1}{2} < \\frac{\\phi^{n+1}}{\\sqrt{5}} < \\frac{1}{2}$, por lo que al redondear ésta parte queda siempre a 0. Y por el corolario 3 sabemos que $\\frac{\\phi^{n+1}}{\\sqrt{5}} \\to 0$ cuando $n \\to \\infty$. Por éstos motivos, podemos ignorar la resta y quedarnos sólo con la parte positiva, ya que para los primeros valores de $n$ el valor de $\\frac{\\phi^{n+1}}{\\sqrt{5}}$ se redondea a $0$, y según $n$ tiende a infinito, los valores son prácticamente despreciables.\n",
    "\n",
    "Por tanto,\n",
    "\n",
    "$\\displaystyle{F_n = \\lfloor \\frac{\\varphi^{n+1}}{\\sqrt{5} } \\rceil}$"
   ]
  },
  {
   "cell_type": "code",
   "execution_count": 6,
   "id": "9dfa267a-418b-4609-aab7-fbe5d6e67cc2",
   "metadata": {
    "tags": []
   },
   "outputs": [
    {
     "data": {
      "image/png": "[encoded data removed]",
      "text/latex": [
       "$\\displaystyle \\left[ 1, \\  1, \\  2, \\  3, \\  5, \\  8, \\  13, \\  21, \\  34, \\  55, \\  89, \\  144\\right]$"
      ],
      "text/plain": [
       "[1, 1, 2, 3, 5, 8, 13, 21, 34, 55, 89, 144]"
      ]
     },
     "metadata": {},
     "output_type": "display_data"
    }
   ],
   "source": [
    "def fib2(n):\n",
    "    return (a**(n+1))/sqrt(5)\n",
    "\n",
    "fibs = []\n",
    "for n in range(0,12):\n",
    "    fibs.append(int(round(fib2(n),0)))\n",
    "    \n",
    "display(fibs)"
   ]
  },
  {
   "cell_type": "markdown",
   "id": "f3ceabb4-afe9-42e9-998b-e7912c6eb40d",
   "metadata": {},
   "source": [
    "### Gráfica de $\\displaystyle{\\frac{\\varphi^{n+1}}{\\sqrt{5}}}$ para $n \\geq 0$ y $n \\in \\mathbb{Z}$\n",
    "\n",
    "Los puntos de los distintos valores tienden a infinito cuando n tiende a infinito."
   ]
  },
  {
   "cell_type": "code",
   "execution_count": 7,
   "id": "0415fa01-7c15-41c7-ae38-5961f4368022",
   "metadata": {
    "tags": []
   },
   "outputs": [
    {
     "data": {
      "text/plain": [
       "[<matplotlib.lines.Line2D at 0x236eceb2cd0>]"
      ]
     },
     "execution_count": 7,
     "metadata": {},
     "output_type": "execute_result"
    },
    {
     "data": {
      "image/png": "[encoded data removed]",
      "text/plain": [
       "<Figure size 640x480 with 1 Axes>"
      ]
     },
     "metadata": {},
     "output_type": "display_data"
    }
   ],
   "source": [
    "n = sp.symbols('n')\n",
    "b = (1 + sqrt(5))/2\n",
    "puntos = [(1/sqrt(5)) * (b**(k+1)) for k in range(0,20,1)]\n",
    "\n",
    "plt.style.use('grayscale')\n",
    "plt.grid(which='major', color='#5a5a5a', linestyle='-')\n",
    "#plt.grid(which='minor', color='r', linestyle='-', alpha=0.2)\n",
    "plt.minorticks_on()\n",
    "plt.title(r\"Puntos de la fórmula $\\frac{\\varphi^{n+1}}{\\sqrt{5}}$ para $n \\geq 0$ y $n \\in \\mathbb{Z}$\", color=\"black\")\n",
    "plt.plot([i for i in range(0,20,1)],puntos,'o')"
   ]
  },
  {
   "cell_type": "markdown",
   "id": "c7c198a7-3ed2-4e5e-bb9a-ee265721766e",
   "metadata": {},
   "source": [
    "# La sucesión de Fibonacci como transformación lineal\n",
    "\n",
    "La sucesión de Fibonacci se puede exptresar como una transformación lineal $T: F \\to F$ a partir del siguiente sistema lineal de ecuaciones:\n",
    "\n",
    "$ \\displaystyle{\\begin{cases}\n",
    "f_{n-1} + f_n=f_{n+1}\\\\\n",
    "f_n = f_n\n",
    "\\end{cases}} $\n",
    "\n",
    "El sistema se representa como\n",
    "\n",
    "$\\displaystyle{T\\left(\\begin{bmatrix} F_{n-1} \\\\ F_{n-2} \\end{bmatrix}\\right) = \\begin{bmatrix} 1 & 1 \\\\ 1 & 0 \\end{bmatrix} \\begin{bmatrix} F_{n-1} \\\\ F_{n - 2} \\end{bmatrix} = \\begin{bmatrix} F_{n-1} + F_{n-2} \\\\ F_{n-1} \\end{bmatrix} = \\begin{bmatrix} F_n \\\\ F_{n-1} \\end{bmatrix} }$"
   ]
  },
  {
   "cell_type": "markdown",
   "id": "b17ac56e-0e74-47a8-84c2-6f491c7823db",
   "metadata": {},
   "source": [
    "Los eigenvalores de la transformación son los siguientes:\n",
    "\n",
    "$\\displaystyle{Ax = \\lambda x}$\n",
    "\n",
    "$\\displaystyle{Ax - \\lambda x= 0}$\n",
    "\n",
    "$\\displaystyle{x(A - \\lambda I_2)= 0}$\n",
    "\n",
    "La ecuación tiene una solución cuando la determinante de la matriz $A - \\lambda I_2$ es igual a cero.\n",
    "\n",
    "$\\displaystyle{A- \\lambda I_2 = \\begin{bmatrix} 1 - \\lambda & 1 \\\\ 1 & -\\lambda \\end{bmatrix}}$\n",
    "\n",
    "Por tanto, los eigenvalores se obtienen al computar la determinante de $A- \\lambda I_2$:\n",
    "\n",
    "$\\displaystyle{det(A- \\lambda I_2) = \\lambda^2 - \\lambda - 1}$\n",
    "\n",
    "Que coincide con la relación de recurrencia $t^2 -t - 1$, por lo que los eigenvalores se corresponden con el ratio áureo.\n",
    "\n",
    "$\\displaystyle{\\lambda = \\{ \\frac{1+\\sqrt{5}}{2}, \\frac{1-\\sqrt{5}}{2}\\} = \\{ \\varphi, \\phi \\}}$\n",
    "\n",
    "Y los eigenvectores se corresponden con los vectores\n",
    "\n",
    "$\\displaystyle{\\begin{bmatrix} \\varphi \\\\ 1 \\end{bmatrix}}$ y $\\displaystyle{\\begin{bmatrix} \\phi \\\\ 1 \\end{bmatrix}}$"
   ]
  },
  {
   "cell_type": "code",
   "execution_count": 8,
   "id": "29b69e28-9ab6-4cae-b22d-e36bf049d9a8",
   "metadata": {
    "tags": []
   },
   "outputs": [
    {
     "data": {
      "image/png": "[encoded data removed]",
      "text/latex": [
       "$\\displaystyle \\lambda^{2} - \\lambda - 1$"
      ],
      "text/plain": [
       " 2        \n",
       "λ  - λ - 1"
      ]
     },
     "metadata": {},
     "output_type": "display_data"
    },
    {
     "data": {
      "image/png": "[encoded data removed]",
      "text/latex": [
       "$\\displaystyle \\left\\{ \\frac{1}{2} - \\frac{\\sqrt{5}}{2} : 1, \\  \\frac{1}{2} + \\frac{\\sqrt{5}}{2} : 1\\right\\}$"
      ],
      "text/plain": [
       "⎧1   √5     1   √5   ⎫\n",
       "⎨─ - ──: 1, ─ + ──: 1⎬\n",
       "⎩2   2      2   2    ⎭"
      ]
     },
     "metadata": {},
     "output_type": "display_data"
    },
    {
     "data": {
      "image/png": "[encoded data removed]",
      "text/latex": [
       "$\\displaystyle \\left[ \\left( \\frac{1}{2} - \\frac{\\sqrt{5}}{2}, \\  1, \\  \\left[ \\left[\\begin{matrix}\\frac{1}{2} - \\frac{\\sqrt{5}}{2}\\\\1\\end{matrix}\\right]\\right]\\right), \\  \\left( \\frac{1}{2} + \\frac{\\sqrt{5}}{2}, \\  1, \\  \\left[ \\left[\\begin{matrix}\\frac{1}{2} + \\frac{\\sqrt{5}}{2}\\\\1\\end{matrix}\\right]\\right]\\right)\\right]$"
      ],
      "text/plain": [
       "⎡⎛           ⎡⎡1   √5⎤⎤⎞  ⎛           ⎡⎡1   √5⎤⎤⎞⎤\n",
       "⎢⎜1   √5     ⎢⎢─ - ──⎥⎥⎟  ⎜1   √5     ⎢⎢─ + ──⎥⎥⎟⎥\n",
       "⎢⎜─ - ──, 1, ⎢⎢2   2 ⎥⎥⎟, ⎜─ + ──, 1, ⎢⎢2   2 ⎥⎥⎟⎥\n",
       "⎢⎜2   2      ⎢⎢      ⎥⎥⎟  ⎜2   2      ⎢⎢      ⎥⎥⎟⎥\n",
       "⎣⎝           ⎣⎣  1   ⎦⎦⎠  ⎝           ⎣⎣  1   ⎦⎦⎠⎦"
      ]
     },
     "metadata": {},
     "output_type": "display_data"
    }
   ],
   "source": [
    "# Crear la matriz de transformación A\n",
    "A = sp.Matrix(([1,1],[1,0]))\n",
    "# Se importa lambda como un símbolo de Sympy\n",
    "lambda_ = sp.symbols('lambda')\n",
    "# Computar la determinante de A - λI(2)\n",
    "display((A - lambda_ * sp.eye(2)).det())\n",
    "# Calcular los eigenvalores de la transformación\n",
    "display(A.eigenvals())\n",
    "# Calcular los eigenvectores de la transformación\n",
    "display(A.eigenvects())"
   ]
  },
  {
   "cell_type": "markdown",
   "id": "53a370e0-6b68-4662-8bc1-d906a592257b",
   "metadata": {},
   "source": [
    "# Computo de la sucesión por iteración\n",
    "\n",
    "Dado que la sucesión es recursiva, el computo de cada término de Fibonacci se puede realizar de forma recursiva, de la siguiente manera:"
   ]
  },
  {
   "cell_type": "code",
   "execution_count": 9,
   "id": "f9e8076d-d731-48a3-8562-6f5a9d6d730c",
   "metadata": {
    "tags": []
   },
   "outputs": [
    {
     "data": {
      "image/png": "[encoded data removed]",
      "text/latex": [
       "$\\displaystyle \\left[ 1, \\  1, \\  2, \\  3, \\  5, \\  8, \\  13, \\  21, \\  34, \\  55, \\  89, \\  144\\right]$"
      ],
      "text/plain": [
       "[1, 1, 2, 3, 5, 8, 13, 21, 34, 55, 89, 144]"
      ]
     },
     "metadata": {},
     "output_type": "display_data"
    }
   ],
   "source": [
    "# Algoritmo de Fibonacci 3: Computo mediante función recursiva\n",
    "def fib3(n):\n",
    "    if n < 0:\n",
    "        return None # No definida para n < 0\n",
    "    if n < 2 and n >= 0: # Si n = 0 o n = 1, Fn = 1\n",
    "        return 1\n",
    "    return fib3(n-1) + fib3(n-2) # Fn = Fn-1 + Fn-2\n",
    "\n",
    "fibs = [fib3(n) for n in range(0,12,1)]\n",
    "display(fibs)"
   ]
  },
  {
   "cell_type": "markdown",
   "id": "f7bbe909-9bb6-4ccf-a73c-ab990bf78c0c",
   "metadata": {},
   "source": [
    "El tiempo de cómputo es $O(2^n)$, ya que se realizan aproximadamente $2^n$ llamadas recursivas a la función (menos las llamadas con n = 0 o n = 1, que se resuelven en tiempo lineal).\n",
    "\n",
    "Se puede reducir el tiempo haciendo que el cómputo se realice mediante bucles:"
   ]
  },
  {
   "cell_type": "code",
   "execution_count": 10,
   "id": "7720f5e1-9b4d-4ff3-830d-8aa9fae7cc40",
   "metadata": {
    "tags": []
   },
   "outputs": [
    {
     "data": {
      "image/png": "[encoded data removed]",
      "text/latex": [
       "$\\displaystyle \\left[ 1, \\  1, \\  2, \\  3, \\  5, \\  8, \\  13, \\  21, \\  34, \\  55, \\  89, \\  144\\right]$"
      ],
      "text/plain": [
       "[1, 1, 2, 3, 5, 8, 13, 21, 34, 55, 89, 144]"
      ]
     },
     "metadata": {},
     "output_type": "display_data"
    }
   ],
   "source": [
    "# Algoritmo de Fibonacci 4: Computo mediante iteración\n",
    "def fib4(n):\n",
    "    if n < 0:\n",
    "        return None # No definida para n < 0\n",
    "    if n < 2 and n >= 0: # Si n = 0 o n = 1, Fn = 1\n",
    "        return 1\n",
    "    f0 = 1\n",
    "    f1 = 1\n",
    "    fn = 0\n",
    "    for i in range(2,n+1,1): # Fn = Fn-1 + Fn-2\n",
    "        fn = f1 + f0 # Se calcula Fn-1 + Fn-2\n",
    "        f0 = f1 # Fn-2 = Fn-1\n",
    "        f1 = fn # Fn-1 = Fn\n",
    "    return fn # Se retorna el resultado\n",
    "\n",
    "fibs = [fib4(n) for n in range(0,12,1)]\n",
    "display(fibs)"
   ]
  },
  {
   "cell_type": "markdown",
   "id": "c6a83059-d3b6-4e24-98f8-ff8302daa0fc",
   "metadata": {},
   "source": [
    "El tiempo de cómputo es ahora $O(n)$ (lineal), ya que se realizan n-2 iteraciones. Por tanto éste algoritmo es mucho más eficiente y rápido que el anterior.\n",
    "\n",
    "Sin embargo, la forma más eficiente de realizar el cómputo, asumiendo que se ejecute en hardware moderno con optimizaciones para el cómputo de operaciones de punto flotante, es usando las fórmulas de recursión mencionadas antes."
   ]
  },
  {
   "cell_type": "code",
   "execution_count": 11,
   "id": "83f94020-4740-4fb7-a757-cb623c607cb1",
   "metadata": {
    "tags": []
   },
   "outputs": [
    {
     "data": {
      "image/png": "[encoded data removed]",
      "text/latex": [
       "$\\displaystyle \\left[ 1, \\  1, \\  2, \\  3, \\  5, \\  8, \\  13, \\  21, \\  34, \\  55, \\  89, \\  144\\right]$"
      ],
      "text/plain": [
       "[1, 1, 2, 3, 5, 8, 13, 21, 34, 55, 89, 144]"
      ]
     },
     "metadata": {},
     "output_type": "display_data"
    }
   ],
   "source": [
    "# 1/sqrt(5)\n",
    "msqrt = 1/sqrt(5)\n",
    "a = (1 + sqrt(5))/2\n",
    "b = (1 - sqrt(5))/2\n",
    "# Algoritmo de Fibonacci 1: Computo mediante la relación de sucesión\n",
    "def fib1(n):\n",
    "    return msqrt * (a**(n+1) - b**(n+1))\n",
    "\n",
    "fibs = [int(fib1(n)) for n in range(0,12,1)]\n",
    "    \n",
    "# Muestra los términos calculados\n",
    "display(fibs)"
   ]
  },
  {
   "cell_type": "markdown",
   "id": "c4ef8db2-3224-4cd8-b7b5-4a00180b12c7",
   "metadata": {},
   "source": [
    "Y en especial, la forma optimizada"
   ]
  },
  {
   "cell_type": "code",
   "execution_count": 12,
   "id": "7fb87c09-8a94-4320-bb8d-8d8fd8408cfe",
   "metadata": {
    "tags": []
   },
   "outputs": [
    {
     "data": {
      "image/png": "[encoded data removed]",
      "text/latex": [
       "$\\displaystyle \\left[ 1, \\  1, \\  2, \\  3, \\  5, \\  8, \\  13, \\  21, \\  34, \\  55, \\  89, \\  144\\right]$"
      ],
      "text/plain": [
       "[1, 1, 2, 3, 5, 8, 13, 21, 34, 55, 89, 144]"
      ]
     },
     "metadata": {},
     "output_type": "display_data"
    }
   ],
   "source": [
    "# Algoritmo de Fibonacci 2: Computo mediante la relación de sucesión optimizada\n",
    "def fib2(n):\n",
    "    return (a**(n+1))/sqrt(5)\n",
    "\n",
    "fibs = [int(round(fib2(n),0)) for n in range(0,12,1)]\n",
    "    \n",
    "display(fibs)"
   ]
  },
  {
   "cell_type": "markdown",
   "id": "2f403a21-7a10-46a2-a66c-21914324bbea",
   "metadata": {},
   "source": [
    "Con las optimizaciones aplicadas mediante hardware, estos algoritmos se ejecutan en tiempo $O(1)$. Es decir, *tarda lo mísmo independientemente del valor de n*. No obstante, sin dichas optimizaciones, es probable que no sea el caso y puede que el algoritmo 4 sea el más eficiente para estos casos."
   ]
  },
  {
   "cell_type": "code",
   "execution_count": null,
   "id": "7590e5eb-9933-439b-a84f-bd0fe8bd1ca7",
   "metadata": {},
   "outputs": [],
   "source": []
  }
 ],
 "metadata": {
  "kernelspec": {
   "display_name": "Python 3 (ipykernel)",
   "language": "python",
   "name": "python3"
  },
  "language_info": {
   "codemirror_mode": {
    "name": "ipython",
    "version": 3
   },
   "file_extension": ".py",
   "mimetype": "text/x-python",
   "name": "python",
   "nbconvert_exporter": "python",
   "pygments_lexer": "ipython3",
   "version": "3.11.1"
  }
 },
 "nbformat": 4,
 "nbformat_minor": 5
}
